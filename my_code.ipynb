{
 "cells": [
  {
   "cell_type": "markdown",
   "metadata": {},
   "source": [
    "# Project: Analyzing Macbeth\n",
    "\n",
    "## Introduction\n",
    "Now we're going to do some rudimentary analysis of Shakespeare's classic play: Macbeth! You will get practice working with lists and dictionaries, conditionals, visualizing data, and thinking analytically about data.\n",
    "\n",
    "## Objectives\n",
    "You will be able to:\n",
    "* Apply string methods to make changes to a string\n",
    "* Use a `for` loop to iterate over a collection\n",
    "* Assign values in a dictionary\n",
    "\n",
    "## Getting the Data\n",
    "Here we start by importing a Python package called `requests`. We'll use it to pull the transcript of Macbeth from the [Project Gutenberg](https://www.gutenberg.org/) website. We'll also preview a few details about what is now stored in the variable `macbeth`. As you can see, it's a string with 120,253 characters - the first 500 of which are printed below. "
   ]
  },
  {
   "cell_type": "code",
   "execution_count": 1,
   "metadata": {},
   "outputs": [
    {
     "name": "stdout",
     "output_type": "stream",
     "text": [
      "<class 'str'>\n",
      "120253\n",
      "﻿\r\n",
      "\r\n",
      "***The Project Gutenberg's Etext of Shakespeare's First Folio***\r\n",
      "********************The Tragedie of Macbeth*********************\r\n",
      "\r\n",
      "\r\n",
      "\r\n",
      "*******************************************************************\r\n",
      "THIS EBOOK WAS ONE OF PROJECT GUTENBERG'S EARLY FILES PRODUCED AT A\r\n",
      "TIME WHEN PROOFING METHODS AND TOOLS WERE NOT WELL DEVELOPED. THERE\r\n",
      "IS AN IMPROVED EDITION OF THIS TITLE WHICH MAY BE VIEWED AS EBOOK\r\n",
      "(#1533) at https://www.gutenberg.org/ebooks/1533\r\n",
      "*********************************\n"
     ]
    }
   ],
   "source": [
    "import requests\n",
    "macbeth = requests.get('http://www.gutenberg.org/cache/epub/2264/pg2264.txt').text\n",
    "\n",
    "print(type(macbeth))\n",
    "print(len(macbeth))\n",
    "print(macbeth[:500])"
   ]
  },
  {
   "cell_type": "code",
   "execution_count": 42,
   "metadata": {},
   "outputs": [
    {
     "name": "stdout",
     "output_type": "stream",
     "text": [
      "The Tragedie of Macbeth    Actus Primus  Scoena Prima     Thunder and Lightning  Enter three Witches       1  When shall we three meet againe?  In Thunder, Lightning, or in Raine?    2  When the Hurley-burley's done,  When the Battaile's lost, and wonne       3  That will be ere the set of Sunne       1  Where the place?    2  Vpon the Heath       3  There to meet with Macbeth       1  I come, Gray-Malkin       All  Padock calls anon  faire is foule, and foule is faire,  Houer through the fogge and filthie ayre     Exeunt       Scena Secunda     Alarum within  Enter King, Malcome, Donalbaine, Lenox, with  attendants, meeting a bleeding Captaine       King  What bloody man is that? he can report,  As seemeth by his plight, of the Reuolt  The newest state       Mal  This is the Serieant,  Who like a good and hardie Souldier fought  'Gainst my Captiuitie  Haile braue friend;  Say to the King, the knowledge of the Broyle,  As thou didst leaue it       Cap  Doubtfull it stood,  As two spent Swimmers, that doe cling together,  And choake their Art  The mercilesse Macdonwald  (Worthie to be a Rebell, for to that  The multiplying Villanies of Nature  Doe swarme vpon him) from the Westerne Isles  Of Kernes and Gallowgrosses is supply'd,  And Fortune on his damned Quarry smiling,  Shew'd like a Rebells Whore  but all's too weake   For braue Macbeth (well hee deserues that Name)  Disdayning Fortune, with his brandisht Steele,  Which smoak'd with bloody execution  (Like Valours Minion) caru'd out his passage,  Till hee fac'd the Slaue   Which neu'r shooke hands, nor bad farwell to him,  Till he vnseam'd him from the Naue toth' Chops,  And fix'd his Head vpon our Battlements       King  O valiant Cousin, worthy Gentleman       Cap  As whence the Sunne 'gins his reflection,  Shipwracking Stormes, and direfull Thunders   So from that Spring, whence comfort seem'd to come,  Discomfort swells  Marke King of Scotland, marke,  No sooner Iustice had, with Valour arm'd,  Compell'd these skipping Kernes to trust their heeles,  But the Norweyan Lord, surueying vantage,  With furbusht Armes, and new supplyes of men,  Began a fresh assault       King  Dismay'd not this our Captaines, Macbeth and  Banquoh?    Cap  Yes, as Sparrowes, Eagles;  Or the Hare, the Lyon   If I say sooth, I must report they were  As Cannons ouer-charg'd with double Cracks,  So they doubly redoubled stroakes vpon the Foe   Except they meant to bathe in reeking Wounds,  Or memorize another Golgotha,  I cannot tell  but I am faint,  My Gashes cry for helpe       King  So well thy words become thee, as thy wounds,  They smack of Honor both  Goe get him Surgeons   Enter Rosse and Angus     Who comes here?    Mal  The worthy Thane of Rosse       Lenox  What a haste lookes through his eyes?  So should he looke, that seemes to speake things strange       Rosse  God saue the King       King  Whence cam'st thou, worthy Thane?    Rosse  From Fiffe, great King,  Where the Norweyan Banners flowt the Skie,  And fanne our people cold   Norway himselfe, with terrible numbers,  Assisted by that most disloyall Traytor,  The Thane of Cawdor, began a dismall Conflict,  Till that Bellona's Bridegroome, lapt in proofe,  Confronted him with selfe-comparisons,  Point against Point, rebellious Arme 'gainst Arme,  Curbing his lauish spirit  and to conclude,  The Victorie fell on vs       King  Great happinesse       Rosse  That now Sweno, the Norwayes King,  Craues composition   Nor would we deigne him buriall of his men,  Till he disbursed, at Saint Colmes ynch,  Ten thousand Dollars, to our generall vse       King  No more that Thane of Cawdor shall deceiue  Our Bosome interest  Goe pronounce his present death,  And with his former Title greet Macbeth       Rosse  Ile see it done       King  What he hath lost, Noble Macbeth hath wonne     Exeunt       Scena Tertia     Thunder  Enter the three Witches       1  Where hast thou beene, Sister?    2  Killing Swine       3  Sister, where thou?    1  A Saylors Wife had Chestnuts in her Lappe,  And mouncht, & mouncht, and mouncht   Giue me, quoth I   Aroynt thee, Witch, the rumpe-fed Ronyon cryes   Her Husband's to Aleppo gone, Master o'th' Tiger   But in a Syue Ile thither sayle,  And like a Rat without a tayle,  Ile doe, Ile doe, and Ile doe       2  Ile giue thee a Winde       1  Th'art kinde       3  And I another       1  I my selfe haue all the other,  And the very Ports they blow,  All the Quarters that they know,  I'th' Ship-mans Card   Ile dreyne him drie as Hay   Sleepe shall neyther Night nor Day  Hang vpon his Pent-house Lid   He shall liue a man forbid   Wearie Seu'nights, nine times nine,  Shall he dwindle, peake, and pine   Though his Barke cannot be lost,  Yet it shall be Tempest-tost   Looke what I haue       2  Shew me, shew me       1  Here I haue a Pilots Thumbe,  Wrackt, as homeward he did come     Drum within       3  A Drumme, a Drumme   Macbeth doth come       All  The weyward Sisters, hand in hand,  Posters of the\n"
     ]
    }
   ],
   "source": [
    "#print(macbeth[15000:20000])\n",
    "#print(macbeth[15000:].index(\"The Tragedie of Macbeth\"))\n",
    "macbeth_trim=macbeth[(macbeth[15000:].index(\"The Tragedie of Macbeth\")+15000):]\n",
    "#print(macbeth_trim[:5000])"
   ]
  },
  {
   "cell_type": "markdown",
   "metadata": {},
   "source": [
    "## Your Task\n",
    "\n",
    "Your task is to create a bar graph of the 25 most common words in Shakespeare's Macbeth.  \n",
    "\n",
    "\n",
    "A common Python programming pattern to count objects, produce histograms, or update statistics is to make calls to a dictionary as you iterate through a list. For example, given a list of words, you can create a dictionary to store counts and then iterate through the list of words, checking how many times each word has appeared using your dictionary, and updating the dictionary count now that you've seen that word again. The `.get()` dictionary method is very useful in doing this. Read the docstring for the `.get()` method and use it along with the pseudocode below to create a bar graph of the 25 most common words from the transcript of Macbeth which has been loaded into the variable 'macbeth'. Be sure to include a title and appropriate labels for your graph.\n",
    "\n",
    "To get the 25 *most common* words, you will have to sort your counts. If you are not super sure how to do this, checkout out the [Sorting HOW TO](https://docs.python.org/3/howto/sorting.html) Python documentation. Part of being a data scientist is figuring out how to do tasks that you may not have done before. Remember, in these situations, Google is your friend!"
   ]
  },
  {
   "cell_type": "code",
   "execution_count": 62,
   "metadata": {},
   "outputs": [],
   "source": [
    "import numpy as np\n",
    "import matplotlib.pyplot as plt\n",
    "%matplotlib inline\n",
    "import re\n",
    "\n",
    "import numpy as np\n",
    "import matplotlib.pyplot as plt\n",
    "%matplotlib inline\n",
    "\n",
    "# Your code here\n",
    "macbeth1=macbeth_trim.replace(\"?\",\".\")\n",
    "macbeth_wordlist=re.split(',| |_|-|!|.',macbeth1)\n",
    "macbeth_uniquewords=list(set(macbeth_wordlist))\n",
    "#print(macbeth_uniquewords[:50])\n",
    "\n",
    "# Pseudo-code outline\n",
    "\n",
    "# Split the transcript into words\n",
    "# Create a dictionary\n",
    "# Iterate through the text of Macbeth\n",
    "# Update word counts\n",
    "# Sort words by counts in descending order\n",
    "# Create Bar Graph\n",
    "# Include descriptive titles and labels"
   ]
  },
  {
   "cell_type": "code",
   "execution_count": 64,
   "metadata": {},
   "outputs": [
    {
     "data": {
      "text/plain": [
       "\" Sea and Land,  Thus doe goe, about, about,  Thrice to thine, and thrice to mine,  And thrice againe, to make vp nine   Peace, the Charme's wound vp   Enter Macbeth and Banquo       Macb  So foule and faire a day I haue not seene       Banquo  How farre is't call'd to Soris? What are these,  So wither'd, and so wilde in their attyre,  That looke not like th' Inhabitants o'th' Earth,  And yet are on't? Liue you, or are you aught  That man may question? you seeme to vnderstand me,  By each at once her choppie finger laying  Vpon her skinnie Lips  you should be Women,  And yet your Beards forbid me to interprete  That you are so       Mac  Speake if you can  what are you?    1  All haile Macbeth, haile to thee Thane of Glamis       2  All haile Macbeth, haile to thee Thane of Cawdor       3  All haile Macbeth, that shalt be King hereafter       Banq  Good Sir, why doe you start, and seeme to feare  Things that doe sound so faire? i'th' name of truth  Are ye fantasticall, or that indeed  Which outwardly ye shew? My Noble Partner  You greet with present Grace, and great prediction  Of Noble hauing, and of Royall hope,  That he seemes wrapt withall  to me you speake not   If you can looke into the Seedes of Time,  And say, which Graine will grow, and which will not,  Speake then to me, who neyther begge, nor feare  Your fauors, nor your hate       1  Hayle       2  Hayle       3  Hayle       1  Lesser than Macbeth, and greater       2  Not so happy, yet much happyer       3  Thou shalt get Kings, though thou be none   So all haile Macbeth, and Banquo       1  Banquo, and Macbeth, all haile       Macb  Stay you imperfect Speakers, tell me more   By Sinells death, I know I am Thane of Glamis,  But how, of Cawdor? the Thane of Cawdor liues  A prosperous Gentleman  And to be King,  Stands not within the prospect of beleefe,  No more then to be Cawdor  Say from whence  You owe this strange Intelligence, or why  Vpon this blasted Heath you stop our way  With such Prophetique greeting?  Speake, I charge you     Witches vanish       Banq  The Earth hath bubbles, as the Water ha's,  And these are of them  whither are they vanish'd?    Macb  Into the Ayre  and what seem'd corporall,  Melted, as breath into the Winde   Would they had stay'd       Banq  Were such things here, as we doe speake about?  Or haue we eaten on the insane Root,  That takes the Reason Prisoner?    Macb  Your Children shall be Kings       Banq  You shall be King       Macb  And Thane of Cawdor too  went it not so?    Banq  Toth' selfe-same tune and words  who's here?  Enter Rosse and Angus       Rosse  The King hath happily receiu'd, Macbeth,  The newes of thy successe  and when he reades  Thy personall Venture in the Rebels sight,  His Wonders and his Prayses doe contend,  Which should be thine, or his  silenc'd with that,  In viewing o're the rest o'th' selfe-same day,  He findes thee in the stout Norweyan Rankes,  Nothing afeard of what thy selfe didst make  Strange Images of death, as thick as Tale  Can post with post, and euery one did beare  Thy prayses in his Kingdomes great defence,  And powr'd them downe before him       Ang  Wee are sent,  To giue thee from our Royall Master thanks,  Onely to harrold thee into his sight,  Not pay thee       Rosse  And for an earnest of a greater Honor,  He bad me, from him, call thee Thane of Cawdor   In which addition, haile most worthy Thane,  For it is thine       Banq  What, can the Deuill speake true?    Macb  The Thane of Cawdor liues   Why doe you dresse me in borrowed Robes?    Ang  Who was the Thane, liues yet,  But vnder heauie Iudgement beares that Life,  Which he deserues to loose   Whether he was combin'd with those of Norway,  Or did lyne the Rebell with hidden helpe,  And vantage; or that with both he labour'd  In his Countreyes wracke, I know not   But Treasons Capitall, confess'd, and prou'd,  Haue ouerthrowne him       Macb  Glamys, and Thane of Cawdor   The greatest is behinde  Thankes for your paines   Doe you not hope your Children shall be Kings,  When those that gaue the Thane of Cawdor to me,  Promis'd no lesse to them       Banq  That trusted home,  Might yet enkindle you vnto the Crowne,  Besides the Thane of Cawdor  But 'tis strange   And oftentimes, to winne vs to our harme,  The Instruments of Darknesse tell vs Truths,  Winne vs with honest Trifles, to betray's  In deepest consequence   Cousins, a word, I pray you       Macb  Two Truths are told,  As happy Prologues to the swelling Act  Of the Imperiall Theame  I thanke you Gentlemen   This supernaturall solliciting  Cannot be ill; cannot be good   If ill? why hath it giuen me earnest of successe,  Commencing in a Truth? I am Thane of Cawdor   If good? why doe I yeeld to that suggestion,  Whose horrid Image doth vnfixe my Heire,  And make my seated Heart knock at my Ribbes,  Against the vse of Nature? Present Feares  Are lesse then horrible Imaginings   My Thought, whose Murther yet is but fantasticall,  Shakes so my single state\""
      ]
     },
     "execution_count": 64,
     "metadata": {},
     "output_type": "execute_result"
    }
   ],
   "source": [
    "macbeth_trim[5000:10000]"
   ]
  },
  {
   "cell_type": "code",
   "execution_count": 55,
   "metadata": {},
   "outputs": [
    {
     "data": {
      "image/png": "[encoded data removed]",
      "text/plain": [
       "<Figure size 720x432 with 1 Axes>"
      ]
     },
     "metadata": {
      "needs_background": "light"
     },
     "output_type": "display_data"
    }
   ],
   "source": [
    "words_count={}\n",
    "for uniqueword in macbeth_uniquewords:\n",
    "    if uniqueword:\n",
    "        currentcount=0\n",
    "        for word in macbeth_wordlist:\n",
    "            if word==uniqueword: currentcount+=1\n",
    "        words_count[uniqueword]=currentcount\n",
    "counts_only=sorted(list(words_count.values()))[-25:]\n",
    "top_25=dict(filter(lambda count:count[1]>=counts_only[0],words_count.items()))\n",
    "sorted_list=sorted(list(top_25.keys()), key=top_25.__getitem__,reverse=True)\n",
    "y=[]\n",
    "for word in sorted_list:\n",
    "    y.append(top_25[word])\n",
    "plt.figure(figsize=(10,6))\n",
    "plt.bar(sorted_list,y)\n",
    "plt.title(\"Most used words in Macbeth\")\n",
    "plt.xlabel(\"Word\")\n",
    "plt.xticks(rotation=90)\n",
    "plt.ylabel(\"Count\")\n",
    "plt.show()"
   ]
  },
  {
   "cell_type": "code",
   "execution_count": null,
   "metadata": {},
   "outputs": [],
   "source": []
  },
  {
   "cell_type": "markdown",
   "metadata": {},
   "source": [
    "## Level Up (Optional)\n",
    "This project should take you about an hour and a half to complete. If you're done much more quickly than that and are not behind in the course, feel free to deepen your knowledge by completing any or all of the following tasks until you run out of time:\n",
    "* Create a list of top characters by mentions of their names \n",
    "* Split the text by which character is talking\n",
    "* Create subgraphs of the most common words by character\n",
    "* Reduce the string to the text of the play itself. (Remove any initial notes, forward, introduction, appendix, etc.)\n",
    "* Come up with some other fun analyses of the text!\n",
    "\n",
    "## Summary\n",
    "Congratulations! You've got some extra practice combining various data types into useful programming patterns and done an initial analysis of a classic text!"
   ]
  }
 ],
 "metadata": {
  "kernelspec": {
   "display_name": "Python 3",
   "language": "python",
   "name": "python3"
  },
  "language_info": {
   "codemirror_mode": {
    "name": "ipython",
    "version": 3
   },
   "file_extension": ".py",
   "mimetype": "text/x-python",
   "name": "python",
   "nbconvert_exporter": "python",
   "pygments_lexer": "ipython3",
   "version": "3.6.9"
  }
 },
 "nbformat": 4,
 "nbformat_minor": 2
}
